{
 "cells": [
  {
   "cell_type": "code",
   "execution_count": 1,
   "metadata": {},
   "outputs": [],
   "source": [
    "import numpy as np"
   ]
  },
  {
   "cell_type": "code",
   "execution_count": 2,
   "metadata": {},
   "outputs": [
    {
     "name": "stdout",
     "output_type": "stream",
     "text": [
      "(7177, 128, 128, 3) (7177,)\n"
     ]
    }
   ],
   "source": [
    "dataset_path = \"../Dataset/\"\n",
    "Set = 1\n",
    "\n",
    "\n",
    "X_train = np.load(dataset_path+ \"Train_X_128_Set\"+str(Set)+\".npy\")\n",
    "Y_train = np.load(dataset_path+ \"Train_Y_128_Set\"+str(Set)+\".npy\")\n",
    "print(X_train.shape, Y_train.shape)"
   ]
  },
  {
   "cell_type": "code",
   "execution_count": 3,
   "metadata": {},
   "outputs": [
    {
     "name": "stderr",
     "output_type": "stream",
     "text": [
      "Using TensorFlow backend.\n"
     ]
    }
   ],
   "source": [
    "from keras.preprocessing.image import ImageDataGenerator, array_to_img, img_to_array, load_img\n",
    "\n",
    "\n",
    "datagen = ImageDataGenerator(\n",
    "    #contrast_stretching=False, #####\n",
    "    #histogram_equalization=False, #####\n",
    "    #adaptive_equalization=False, #####\n",
    "    #featurewise_center=False,\n",
    "   # samplewise_center=False,\n",
    "   # featurewise_std_normalization=False,\n",
    "   # samplewise_std_normalization=False,\n",
    "    zca_whitening=False,\n",
    "    rotation_range=350.,\n",
    "    width_shift_range=0.,\n",
    "    height_shift_range=0.,\n",
    "    shear_range=0.,\n",
    "    zoom_range=0.,\n",
    "    channel_shift_range=0.,\n",
    "    fill_mode='constant',\n",
    "    cval=0.,\n",
    "    horizontal_flip=False,\n",
    "    vertical_flip=False,\n",
    "    rescale=None,\n",
    "    preprocessing_function=None)"
   ]
  },
  {
   "cell_type": "code",
   "execution_count": 4,
   "metadata": {
    "scrolled": true
   },
   "outputs": [
    {
     "name": "stdout",
     "output_type": "stream",
     "text": [
      "24 (800, 128, 128, 3)\n",
      "49 (1600, 128, 128, 3)\n",
      "74 (2400, 128, 128, 3)\n",
      "99 (3200, 128, 128, 3)\n",
      "124 (4000, 128, 128, 3)\n",
      "149 (4800, 128, 128, 3)\n",
      "174 (5600, 128, 128, 3)\n",
      "199 (6400, 128, 128, 3)\n",
      "(7177, 128, 128, 3) (7177,)\n",
      "249 (800, 128, 128, 3)\n",
      "274 (1600, 128, 128, 3)\n",
      "299 (2400, 128, 128, 3)\n",
      "324 (3200, 128, 128, 3)\n",
      "349 (4000, 128, 128, 3)\n",
      "374 (4800, 128, 128, 3)\n",
      "399 (5600, 128, 128, 3)\n",
      "424 (6400, 128, 128, 3)\n",
      "(7177, 128, 128, 3) (7177,)\n",
      "474 (800, 128, 128, 3)\n",
      "499 (1600, 128, 128, 3)\n",
      "524 (2400, 128, 128, 3)\n",
      "549 (3200, 128, 128, 3)\n",
      "574 (4000, 128, 128, 3)\n",
      "599 (4800, 128, 128, 3)\n",
      "624 (5600, 128, 128, 3)\n",
      "649 (6400, 128, 128, 3)\n",
      "(7177, 128, 128, 3) (7177,)\n"
     ]
    }
   ],
   "source": [
    "batch_size = 32\n",
    "n_iter = X_train.shape[0]//batch_size\n",
    "\n",
    "\n",
    "\n",
    "datagen.fit(X_train)\n",
    "i=0\n",
    "\n",
    "for t in range(3):\n",
    "\n",
    "    X_aug = X_train[:0, : ,:, :]\n",
    "    Y_aug = Y_train[:0]\n",
    "    \n",
    "    for x_data_aug, y_data_aug in datagen.flow(X_train, Y_train, batch_size=batch_size):\n",
    "        X_aug = np.concatenate((X_aug, x_data_aug), axis=0)\n",
    "        Y_aug = np.concatenate((Y_aug, y_data_aug), axis=0)\n",
    "        if X_aug.shape[0] % 100 == 0:\n",
    "            print(i, X_aug.shape)\n",
    "        i += 1\n",
    "\n",
    "        if X_aug.shape[0] >= X_train.shape[0]:\n",
    "            break\n",
    "    \n",
    "   \n",
    "    np.save(dataset_path+ \"Train_X_128_Set\"+str(Set)+\"_AugSet_\"+str(t+1)+\".npy\", X_aug)\n",
    "    np.save(dataset_path+ \"Train_Y_128_Set\"+str(Set)+\"_AugSet_\"+str(t+1)+\".npy\", Y_aug)\n",
    "    \n",
    "    \n",
    "    print(X_aug.shape, Y_aug.shape)\n",
    "    \n",
    "    \n",
    " "
   ]
  },
  {
   "cell_type": "code",
   "execution_count": 5,
   "metadata": {},
   "outputs": [
    {
     "data": {
      "text/plain": [
       "(7177, 128, 128, 3)"
      ]
     },
     "execution_count": 5,
     "metadata": {},
     "output_type": "execute_result"
    }
   ],
   "source": [
    "X_aug.shape"
   ]
  },
  {
   "cell_type": "code",
   "execution_count": 6,
   "metadata": {},
   "outputs": [
    {
     "data": {
      "text/plain": [
       "<Figure size 640x480 with 9 Axes>"
      ]
     },
     "metadata": {},
     "output_type": "display_data"
    }
   ],
   "source": [
    "from matplotlib import pyplot\n",
    "\n",
    "\n",
    "for i in range(9):\n",
    "\t# define subplot\n",
    "\tpyplot.subplot(330 + 1 + i)\n",
    "\t# generate batch of images\n",
    "\t\n",
    "\t# convert to unsigned integers for viewing\n",
    "\timage = X_aug[i]\n",
    "\t# plot raw pixel data\n",
    "\tpyplot.imshow(image)\n",
    "# show the figure\n",
    "pyplot.show()"
   ]
  },
  {
   "cell_type": "code",
   "execution_count": 7,
   "metadata": {},
   "outputs": [],
   "source": [
    "pyplot.show()"
   ]
  },
  {
   "cell_type": "code",
   "execution_count": null,
   "metadata": {},
   "outputs": [],
   "source": []
  }
 ],
 "metadata": {
  "kernelspec": {
   "display_name": "Python 3",
   "language": "python",
   "name": "python3"
  },
  "language_info": {
   "codemirror_mode": {
    "name": "ipython",
    "version": 3
   },
   "file_extension": ".py",
   "mimetype": "text/x-python",
   "name": "python",
   "nbconvert_exporter": "python",
   "pygments_lexer": "ipython3",
   "version": "3.6.8"
  }
 },
 "nbformat": 4,
 "nbformat_minor": 2
}
