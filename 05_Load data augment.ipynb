{
 "cells": [
  {
   "cell_type": "code",
   "execution_count": 1,
   "metadata": {},
   "outputs": [
    {
     "name": "stdout",
     "output_type": "stream",
     "text": [
      "ahcd1\t\t     TICH-plain-characters\r\n",
      "ahcd1.zip\t     TICH-plain-characters.zip\r\n",
      "EnglishFnt\t     Train_X_128_Set1_AugSet_1.npy\r\n",
      "EnglishFnt.tgz\t     Train_X_128_Set1_AugSet_2.npy\r\n",
      "EnglishHnd\t     Train_X_128_Set1_AugSet_3.npy\r\n",
      "EnglishHnd.tgz\t     Train_X_128_Set1.npy\r\n",
      "EnglishImg\t     Train_X_128_Set2.npy\r\n",
      "EnglishImg.tgz\t     Train_X_128_Set3.npy\r\n",
      "KannadaHnd\t     Train_X_128_Set4.npy\r\n",
      "KannadaHnd.tgz\t     Train_X_128_Set5.npy\r\n",
      "KannadaImg\t     Train_Y_128_Set1_AugSet_1.npy\r\n",
      "KannadaImg.tgz\t     Train_Y_128_Set1_AugSet_2.npy\r\n",
      "Lanna_set\t     Train_Y_128_Set1_AugSet_3.npy\r\n",
      "Lanna_set.zip\t     Train_Y_128_Set1.npy\r\n",
      "Test_X_128_Set1.npy  Train_Y_128_Set2.npy\r\n",
      "Test_X_128_Set2.npy  Train_Y_128_Set3.npy\r\n",
      "Test_X_128_Set3.npy  Train_Y_128_Set4.npy\r\n",
      "Test_X_128_Set4.npy  Train_Y_128_Set5.npy\r\n",
      "Test_X_128_Set5.npy  Val_X_128_Set1.npy\r\n",
      "Test_Y_128_Set1.npy  Val_X_128_Set2.npy\r\n",
      "Test_Y_128_Set2.npy  Val_X_128_Set3.npy\r\n",
      "Test_Y_128_Set3.npy  Val_X_128_Set4.npy\r\n",
      "Test_Y_128_Set4.npy  Val_X_128_Set5.npy\r\n",
      "Test_Y_128_Set5.npy  Val_Y_128_Set1.npy\r\n",
      "ThaiCharacter\t     Val_Y_128_Set2.npy\r\n",
      "ThaiCharacter.zip    Val_Y_128_Set3.npy\r\n",
      "ThaiTest_X_128.npy   Val_Y_128_Set4.npy\r\n",
      "ThaiTest_Y_128.npy   Val_Y_128_Set5.npy\r\n"
     ]
    }
   ],
   "source": [
    "dataset_path = \"../Dataset/\"\n",
    "\n",
    "!ls \"../Dataset/\""
   ]
  },
  {
   "cell_type": "code",
   "execution_count": 2,
   "metadata": {},
   "outputs": [],
   "source": [
    "import numpy as np"
   ]
  },
  {
   "cell_type": "code",
   "execution_count": 3,
   "metadata": {},
   "outputs": [
    {
     "name": "stdout",
     "output_type": "stream",
     "text": [
      "(937, 128, 128, 3) (898, 128, 128, 3) (7177, 128, 128, 3)\n"
     ]
    }
   ],
   "source": [
    "Set = 1\n",
    "X_Test = np.load(dataset_path+ \"Test_X_128_Set\"+str(Set)+\".npy\")\n",
    "Y_Test = np.load(dataset_path+ \"Test_Y_128_Set\"+str(Set)+\".npy\")\n",
    "X_Val = np.load(dataset_path+ \"Val_X_128_Set\"+str(Set)+\".npy\")\n",
    "Y_Val = np.load(dataset_path+ \"Val_Y_128_Set\"+str(Set)+\".npy\")\n",
    "\n",
    "X_Train = np.load(dataset_path+ \"Train_X_128_Set\"+str(Set)+\".npy\")\n",
    "Y_Train = np.load(dataset_path+ \"Train_Y_128_Set\"+str(Set)+\".npy\")\n",
    "\n",
    "print(X_Test.shape, X_Val.shape, X_Train.shape)"
   ]
  },
  {
   "cell_type": "code",
   "execution_count": 4,
   "metadata": {},
   "outputs": [
    {
     "name": "stdout",
     "output_type": "stream",
     "text": [
      "1\n"
     ]
    }
   ],
   "source": [
    "#LOad Train \n",
    "import gc\n",
    "for t in range(1):\n",
    "    print(t+1)\n",
    "    X_aug = np.load(dataset_path+ \"Train_X_128_Set\"+str(Set)+\"_AugSet_\"+str(t+1)+\".npy\")\n",
    "    Y_aug = np.load(dataset_path+ \"Train_Y_128_Set\"+str(Set)+\"_AugSet_\"+str(t+1)+\".npy\")\n",
    "    \n",
    "    X_Train = np.concatenate((X_Train, X_aug), axis=0)\n",
    "    Y_Train = np.concatenate((Y_Train, Y_aug), axis=0)\n",
    "    gc.collect()"
   ]
  },
  {
   "cell_type": "code",
   "execution_count": 5,
   "metadata": {},
   "outputs": [
    {
     "name": "stdout",
     "output_type": "stream",
     "text": [
      "(14354, 128, 128, 3) (14354,)\n"
     ]
    }
   ],
   "source": [
    "print(X_Train.shape, Y_Train.shape)"
   ]
  }
 ],
 "metadata": {
  "kernelspec": {
   "display_name": "Python 3",
   "language": "python",
   "name": "python3"
  },
  "language_info": {
   "codemirror_mode": {
    "name": "ipython",
    "version": 3
   },
   "file_extension": ".py",
   "mimetype": "text/x-python",
   "name": "python",
   "nbconvert_exporter": "python",
   "pygments_lexer": "ipython3",
   "version": "3.6.8"
  }
 },
 "nbformat": 4,
 "nbformat_minor": 2
}
