{
 "cells": [
  {
   "cell_type": "code",
   "execution_count": 2,
   "metadata": {},
   "outputs": [
    {
     "name": "stdout",
     "output_type": "stream",
     "text": [
      "PrepareDataSet.ipynb\r\n"
     ]
    }
   ],
   "source": [
    "! ls"
   ]
  },
  {
   "cell_type": "code",
   "execution_count": 3,
   "metadata": {},
   "outputs": [
    {
     "name": "stdout",
     "output_type": "stream",
     "text": [
      "Code  Dataset\r\n"
     ]
    }
   ],
   "source": [
    "! ls \"../\""
   ]
  },
  {
   "cell_type": "code",
   "execution_count": 6,
   "metadata": {},
   "outputs": [
    {
     "name": "stdout",
     "output_type": "stream",
     "text": [
      "1   13\t17  20\t24  28\t31  35\t39  42\t46  5\t53  57\t60  64\t7\r\n",
      "10  14\t18  21\t25  29\t32  36\t4   43\t47  50\t54  58\t61  65\t8\r\n",
      "11  15\t19  22\t26  3\t33  37\t40  44\t48  51\t55  59\t62  66\t9\r\n",
      "12  16\t2   23\t27  30\t34  38\t41  45\t49  52\t56  6\t63  67\r\n"
     ]
    }
   ],
   "source": [
    "! ls \"../Dataset/ThaiCharacter/test_norm\""
   ]
  },
  {
   "cell_type": "code",
   "execution_count": 7,
   "metadata": {},
   "outputs": [],
   "source": [
    "path = \"../Dataset/ThaiCharacter/test_norm\""
   ]
  },
  {
   "cell_type": "code",
   "execution_count": 11,
   "metadata": {},
   "outputs": [
    {
     "name": "stdout",
     "output_type": "stream",
     "text": [
      "['22', '21', '1', '34', '6', '55', '27', '15', '4', '58', '17', '28', '57', '63', '40', '10', '16', '62', '45', '61', '42', '29', '18', '50', '43', '36', '11', '30', '14', '31', '33', '3', '48', '65', '44', '24', '8', '54', '47', '56', '9', '25', '37', '60', '26', '32', '5', '53', '20', '35', '39', '2', '49', '51', '46', '59', '41', '38', '67', '13', '52', '23', '66', '12', '7', '64', '19']\n"
     ]
    }
   ],
   "source": [
    "from os import listdir\n",
    "\n",
    "result = listdir(path)\n",
    "print(result)"
   ]
  },
  {
   "cell_type": "code",
   "execution_count": 13,
   "metadata": {},
   "outputs": [
    {
     "name": "stdout",
     "output_type": "stream",
     "text": [
      "['is090034701.bmp', 'is100034701.bmp', 'is030024701.bmp', 'is090064501.bmp', 'is050034701.bmp', 'is090044501.bmp', 'is070054701.bmp', 'is040014701.bmp', 'is020024701.bmp', 'is070064701.bmp', 'is100054701.bmp', 'is100014701.bmp', 'is030054701.bmp', 'is070054501.bmp', 'is050044701.bmp', 'is080074501.bmp', 'is040054501.bmp', 'is060064701.bmp', 'is020074501.bmp', 'is090044701.bmp', 'is060014501.bmp', 'is090074501.bmp', 'is020054501.bmp', 'is080064501.bmp', 'is030014501.bmp', 'is020054701.bmp', 'is040024701.bmp', 'is030044701.bmp', 'is100054501.bmp', 'is010014501.bmp', 'is040054701.bmp', 'is070024501.bmp', 'is040034501.bmp', 'is090024501.bmp', 'is100044701.bmp', 'is030034501.bmp', 'is080034701.bmp', 'is080044701.bmp', 'is080014501.bmp', 'is080054501.bmp', 'is060054501.bmp', 'is050054701.bmp', 'is070064501.bmp', 'is090064701.bmp', 'is070014501.bmp', 'is060024701.bmp', 'is050024501.bmp', 'is020014701.bmp', 'is060054701.bmp', 'is050014501.bmp', 'is050014701.bmp', 'is050044501.bmp', 'is100074701.bmp', 'is080064701.bmp', 'is080054701.bmp', 'is040034701.bmp', 'is080034501.bmp', 'is070034501.bmp', 'is070014701.bmp', 'is050064701.bmp', 'is010074701.bmp', 'is030054501.bmp', 'is090054701.bmp', 'is060034701.bmp', 'is080024501.bmp', 'is040014501.bmp', 'is060044701.bmp', 'is010054717.bmp', 'is030024501.bmp', 'is090054501.bmp', 'is030064701.bmp', 'is010044501.bmp', 'is100014501.bmp', 'is040064701.bmp', 'is050024701.bmp', 'is080014701.bmp', 'is070034701.bmp', 'is040044701.bmp', 'is040064501.bmp', 'is020044701.bmp', 'is050064501.bmp', 'is100024701.bmp', 'is070024701.bmp', 'is060014701.bmp', 'is100044501.bmp', 'is020064501.bmp', 'is090034501.bmp', 'is030064501.bmp', 'is010044701.bmp', 'is100034501.bmp', 'is010054701.bmp', 'is030074501.bmp', 'is070044501.bmp', 'is070044701.bmp', 'is090014701.bmp', 'is050074701.bmp', 'is040074501.bmp', 'is010064501.bmp', 'is030034701.bmp', 'is100064701.bmp', 'is090074701.bmp', 'is050034501.bmp', 'is040024501.bmp', 'is010074501.bmp', 'is020014501.bmp', 'is010024701.bmp', 'is080074701.bmp', 'is080024701.bmp', 'is020034701.bmp', 'is030044501.bmp', 'is020034501.bmp', 'is060044501.bmp', 'is050054501.bmp', 'is090014501.bmp', 'is010024501.bmp', 'is010014701.bmp', 'is020064701.bmp', 'is030014701.bmp', 'is090024701.bmp', 'is040074701.bmp', 'is060064501.bmp', 'is020024501.bmp', 'is010054501.bmp', 'is030074701.bmp', 'is060024501.bmp', 'is020044501.bmp', 'is010064701.bmp', 'is100024501.bmp', 'is040044501.bmp', 'is020074701.bmp', 'is100074501.bmp', 'is060034501.bmp', 'is080044501.bmp', 'is050074501.bmp', 'is100064501.bmp']\n"
     ]
    }
   ],
   "source": [
    "named = '1'\n",
    "c01_path = path + \"/\" + named\n",
    "result = listdir(c01_path)\n",
    "print(result)"
   ]
  },
  {
   "cell_type": "code",
   "execution_count": 17,
   "metadata": {},
   "outputs": [
    {
     "name": "stdout",
     "output_type": "stream",
     "text": [
      "Path: ../Dataset/ThaiCharacter/test_norm/1/is090034701.bmp\n",
      "Image: [[0 0 0 ... 0 0 0]\n",
      " [0 0 0 ... 0 0 0]\n",
      " [0 0 0 ... 0 0 0]\n",
      " ...\n",
      " [0 0 0 ... 0 0 0]\n",
      " [0 0 0 ... 0 0 0]\n",
      " [0 0 0 ... 0 0 0]]\n"
     ]
    },
    {
     "data": {
      "image/png": "[encoded data removed]",
      "text/plain": [
       "<Figure size 432x288 with 1 Axes>"
      ]
     },
     "metadata": {
      "needs_background": "light"
     },
     "output_type": "display_data"
    }
   ],
   "source": [
    "from skimage import io\n",
    "\n",
    "img_name = 'is090034701.bmp'\n",
    "image_path = c01_path + \"/\" + img_name\n",
    "\n",
    "img = io.imread(image_path)\n",
    "print(\"Path:\", image_path)\n",
    "print(\"Image:\", img)\n",
    "\n",
    "io.imshow(img)\n",
    "io.show()"
   ]
  },
  {
   "cell_type": "code",
   "execution_count": 19,
   "metadata": {},
   "outputs": [
    {
     "name": "stdout",
     "output_type": "stream",
     "text": [
      "Shape (32, 32)\n",
      "Type <class 'tuple'>\n"
     ]
    }
   ],
   "source": [
    "print(\"Shape\", img.shape)\n",
    "print(\"Type\", type(img.shape))"
   ]
  },
  {
   "cell_type": "code",
   "execution_count": 63,
   "metadata": {},
   "outputs": [
    {
     "name": "stdout",
     "output_type": "stream",
     "text": [
      "(224, 224)\n"
     ]
    },
    {
     "data": {
      "text/plain": [
       "<matplotlib.image.AxesImage at 0x7fb3314215f8>"
      ]
     },
     "execution_count": 63,
     "metadata": {},
     "output_type": "execute_result"
    },
    {
     "data": {
      "image/png": "[encoded data removed]",
      "text/plain": [
       "<Figure size 432x288 with 1 Axes>"
      ]
     },
     "metadata": {
      "needs_background": "light"
     },
     "output_type": "display_data"
    }
   ],
   "source": [
    "from skimage import transform\n",
    "\n",
    "N = 224\n",
    "\n",
    "t_img = transform.resize(img, (N, N))\n",
    "print(t_img.shape)\n",
    "\n",
    "io.imshow(t_img)"
   ]
  },
  {
   "cell_type": "code",
   "execution_count": 75,
   "metadata": {},
   "outputs": [
    {
     "name": "stdout",
     "output_type": "stream",
     "text": [
      "(224, 224, 1)\n",
      "(224, 224)\n"
     ]
    },
    {
     "data": {
      "text/plain": [
       "<matplotlib.image.AxesImage at 0x7fb331011fd0>"
      ]
     },
     "execution_count": 75,
     "metadata": {},
     "output_type": "execute_result"
    },
    {
     "data": {
      "image/png": "[encoded data removed]",
      "text/plain": [
       "<Figure size 432x288 with 1 Axes>"
      ]
     },
     "metadata": {
      "needs_background": "light"
     },
     "output_type": "display_data"
    }
   ],
   "source": [
    "import numpy as np\n",
    "\n",
    "empty_img = np.zeros((N, N, 1))\n",
    "print(empty_img.shape)\n",
    "print(empty_img[:, :, 0].shape)\n",
    "\n",
    "io.imshow(empty_img[:, :, 0])"
   ]
  },
  {
   "cell_type": "code",
   "execution_count": 70,
   "metadata": {},
   "outputs": [
    {
     "data": {
      "text/plain": [
       "<matplotlib.image.AxesImage at 0x7fb3312a7a20>"
      ]
     },
     "execution_count": 70,
     "metadata": {},
     "output_type": "execute_result"
    },
    {
     "data": {
      "image/png": "[encoded data removed]",
      "text/plain": [
       "<Figure size 432x288 with 1 Axes>"
      ]
     },
     "metadata": {
      "needs_background": "light"
     },
     "output_type": "display_data"
    }
   ],
   "source": [
    "r_img = empty_img[ : , : , :]\n",
    "r_img[:, :, 0] = t_img[:, :]\n",
    "r_img[:, :, 1] = t_img[:, :]\n",
    "r_img[:, :, 2] = t_img[:, :]\n",
    "#r_img[:, :, 1] = 1\n",
    "#r_img[:, :, 1:3] =  [1, 1]\n",
    "\n",
    "io.imshow(r_img)"
   ]
  },
  {
   "cell_type": "code",
   "execution_count": 71,
   "metadata": {},
   "outputs": [
    {
     "name": "stdout",
     "output_type": "stream",
     "text": [
      "(224, 224, 3)\n"
     ]
    }
   ],
   "source": [
    "print(r_img.shape)"
   ]
  },
  {
   "cell_type": "code",
   "execution_count": null,
   "metadata": {},
   "outputs": [],
   "source": []
  }
 ],
 "metadata": {
  "kernelspec": {
   "display_name": "Python 3",
   "language": "python",
   "name": "python3"
  },
  "language_info": {
   "codemirror_mode": {
    "name": "ipython",
    "version": 3
   },
   "file_extension": ".py",
   "mimetype": "text/x-python",
   "name": "python",
   "nbconvert_exporter": "python",
   "pygments_lexer": "ipython3",
   "version": "3.6.8"
  }
 },
 "nbformat": 4,
 "nbformat_minor": 2
}
