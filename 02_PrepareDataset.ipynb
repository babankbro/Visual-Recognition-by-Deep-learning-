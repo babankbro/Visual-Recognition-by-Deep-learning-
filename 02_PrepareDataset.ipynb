{
 "cells": [
  {
   "cell_type": "code",
   "execution_count": 1,
   "metadata": {},
   "outputs": [],
   "source": [
    "path = \"../Dataset/ThaiCharacter/test_norm\""
   ]
  },
  {
   "cell_type": "code",
   "execution_count": 4,
   "metadata": {},
   "outputs": [
    {
     "name": "stdout",
     "output_type": "stream",
     "text": [
      "['22', '21', '1', '34', '6', '55', '27', '15', '4', '58', '17', '28', '57', '63', '40', '10', '16', '62', '45', '61', '42', '29', '18', '50', '43', '36', '11', '30', '14', '31', '33', '3', '48', '65', '44', '24', '8', '54', '47', '56', '9', '25', '37', '60', '26', '32', '5', '53', '20', '35', '39', '2', '49', '51', '46', '59', '41', '38', '67', '13', '52', '23', '66', '12', '7', '64', '19']\n"
     ]
    }
   ],
   "source": [
    "import os\n",
    "\n",
    "results = os.listdir(path)\n",
    "print(results)"
   ]
  },
  {
   "cell_type": "code",
   "execution_count": 6,
   "metadata": {},
   "outputs": [
    {
     "name": "stdout",
     "output_type": "stream",
     "text": [
      "['22', '21', '1', '34', '6', '55', '27', '15', '4', '58', '17', '28', '57', '63', '40', '10', '16', '62', '45', '61', '42', '29', '18', '50', '43', '36', '11', '30', '14', '31', '33', '3', '48', '65', '44', '24', '8', '54', '47', '56', '9', '25', '37', '60', '26', '32', '5', '53', '20', '35', '39', '2', '49', '51', '46', '59', '41', '38', '67', '13', '52', '23', '66', '12', '7', '64', '19']\n"
     ]
    }
   ],
   "source": [
    "from os import listdir\n",
    "\n",
    "results = listdir(path)\n",
    "print(results)"
   ]
  },
  {
   "cell_type": "code",
   "execution_count": 7,
   "metadata": {},
   "outputs": [],
   "source": [
    "import numpy as np"
   ]
  },
  {
   "cell_type": "code",
   "execution_count": 36,
   "metadata": {},
   "outputs": [
    {
     "name": "stdout",
     "output_type": "stream",
     "text": [
      "../Dataset/ThaiCharacter/test_norm/22\n",
      "../Dataset/ThaiCharacter/test_norm/21\n",
      "../Dataset/ThaiCharacter/test_norm/1\n",
      "../Dataset/ThaiCharacter/test_norm/34\n",
      "../Dataset/ThaiCharacter/test_norm/6\n",
      "../Dataset/ThaiCharacter/test_norm/55\n",
      "../Dataset/ThaiCharacter/test_norm/27\n",
      "../Dataset/ThaiCharacter/test_norm/15\n",
      "../Dataset/ThaiCharacter/test_norm/4\n",
      "../Dataset/ThaiCharacter/test_norm/58\n",
      "../Dataset/ThaiCharacter/test_norm/17\n",
      "../Dataset/ThaiCharacter/test_norm/28\n",
      "../Dataset/ThaiCharacter/test_norm/57\n",
      "../Dataset/ThaiCharacter/test_norm/63\n",
      "../Dataset/ThaiCharacter/test_norm/40\n",
      "../Dataset/ThaiCharacter/test_norm/10\n",
      "../Dataset/ThaiCharacter/test_norm/16\n",
      "../Dataset/ThaiCharacter/test_norm/62\n",
      "../Dataset/ThaiCharacter/test_norm/45\n",
      "../Dataset/ThaiCharacter/test_norm/61\n",
      "../Dataset/ThaiCharacter/test_norm/42\n",
      "../Dataset/ThaiCharacter/test_norm/29\n",
      "../Dataset/ThaiCharacter/test_norm/18\n",
      "../Dataset/ThaiCharacter/test_norm/50\n",
      "../Dataset/ThaiCharacter/test_norm/43\n",
      "../Dataset/ThaiCharacter/test_norm/36\n",
      "../Dataset/ThaiCharacter/test_norm/11\n",
      "../Dataset/ThaiCharacter/test_norm/30\n",
      "../Dataset/ThaiCharacter/test_norm/14\n",
      "../Dataset/ThaiCharacter/test_norm/31\n",
      "../Dataset/ThaiCharacter/test_norm/33\n",
      "../Dataset/ThaiCharacter/test_norm/3\n",
      "../Dataset/ThaiCharacter/test_norm/48\n",
      "../Dataset/ThaiCharacter/test_norm/65\n",
      "../Dataset/ThaiCharacter/test_norm/44\n",
      "../Dataset/ThaiCharacter/test_norm/24\n",
      "../Dataset/ThaiCharacter/test_norm/8\n",
      "../Dataset/ThaiCharacter/test_norm/54\n",
      "../Dataset/ThaiCharacter/test_norm/47\n",
      "../Dataset/ThaiCharacter/test_norm/56\n",
      "../Dataset/ThaiCharacter/test_norm/9\n",
      "../Dataset/ThaiCharacter/test_norm/25\n",
      "../Dataset/ThaiCharacter/test_norm/37\n",
      "../Dataset/ThaiCharacter/test_norm/60\n",
      "../Dataset/ThaiCharacter/test_norm/26\n",
      "../Dataset/ThaiCharacter/test_norm/32\n",
      "../Dataset/ThaiCharacter/test_norm/5\n",
      "../Dataset/ThaiCharacter/test_norm/53\n",
      "../Dataset/ThaiCharacter/test_norm/20\n",
      "../Dataset/ThaiCharacter/test_norm/35\n",
      "../Dataset/ThaiCharacter/test_norm/39\n",
      "../Dataset/ThaiCharacter/test_norm/2\n",
      "../Dataset/ThaiCharacter/test_norm/49\n",
      "../Dataset/ThaiCharacter/test_norm/51\n",
      "../Dataset/ThaiCharacter/test_norm/46\n",
      "../Dataset/ThaiCharacter/test_norm/59\n",
      "../Dataset/ThaiCharacter/test_norm/41\n",
      "../Dataset/ThaiCharacter/test_norm/38\n",
      "../Dataset/ThaiCharacter/test_norm/67\n",
      "../Dataset/ThaiCharacter/test_norm/13\n",
      "../Dataset/ThaiCharacter/test_norm/52\n",
      "../Dataset/ThaiCharacter/test_norm/23\n",
      "../Dataset/ThaiCharacter/test_norm/66\n",
      "../Dataset/ThaiCharacter/test_norm/12\n",
      "../Dataset/ThaiCharacter/test_norm/7\n",
      "../Dataset/ThaiCharacter/test_norm/64\n",
      "../Dataset/ThaiCharacter/test_norm/19\n",
      "['../Dataset/ThaiCharacter/test_norm/22/is080054522.bmp', '../Dataset/ThaiCharacter/test_norm/22/is010024522.bmp', '../Dataset/ThaiCharacter/test_norm/22/is060024522.bmp', '../Dataset/ThaiCharacter/test_norm/22/is040044722.bmp', '../Dataset/ThaiCharacter/test_norm/22/is070014722.bmp', '../Dataset/ThaiCharacter/test_norm/22/is100044722.bmp', '../Dataset/ThaiCharacter/test_norm/22/is070054722.bmp', '../Dataset/ThaiCharacter/test_norm/22/is050024522.bmp', '../Dataset/ThaiCharacter/test_norm/22/is050054722.bmp', '../Dataset/ThaiCharacter/test_norm/22/is020044522.bmp', '../Dataset/ThaiCharacter/test_norm/22/is060044722.bmp', '../Dataset/ThaiCharacter/test_norm/22/is090054722.bmp', '../Dataset/ThaiCharacter/test_norm/22/is010074722.bmp', '../Dataset/ThaiCharacter/test_norm/22/is080044522.bmp', '../Dataset/ThaiCharacter/test_norm/22/is030064722.bmp', '../Dataset/ThaiCharacter/test_norm/22/is030074722.bmp', '../Dataset/ThaiCharacter/test_norm/22/is010014522.bmp', '../Dataset/ThaiCharacter/test_norm/22/is090014522.bmp', '../Dataset/ThaiCharacter/test_norm/22/is080034722.bmp', '../Dataset/ThaiCharacter/test_norm/22/is100054722.bmp', '../Dataset/ThaiCharacter/test_norm/22/is020054522.bmp', '../Dataset/ThaiCharacter/test_norm/22/is020074522.bmp', '../Dataset/ThaiCharacter/test_norm/22/is030014522.bmp', '../Dataset/ThaiCharacter/test_norm/22/is020054722.bmp', '../Dataset/ThaiCharacter/test_norm/22/is020034522.bmp', '../Dataset/ThaiCharacter/test_norm/22/is060014522.bmp', '../Dataset/ThaiCharacter/test_norm/22/is030024722.bmp', '../Dataset/ThaiCharacter/test_norm/22/is070054522.bmp', '../Dataset/ThaiCharacter/test_norm/22/is060014722.bmp', '../Dataset/ThaiCharacter/test_norm/22/is070044722.bmp', '../Dataset/ThaiCharacter/test_norm/22/is050034522.bmp', '../Dataset/ThaiCharacter/test_norm/22/is020034722.bmp', '../Dataset/ThaiCharacter/test_norm/22/is050044522.bmp', '../Dataset/ThaiCharacter/test_norm/22/is070034522.bmp', '../Dataset/ThaiCharacter/test_norm/22/is050014722.bmp', '../Dataset/ThaiCharacter/test_norm/22/is100064522.bmp', '../Dataset/ThaiCharacter/test_norm/22/is050014522.bmp', '../Dataset/ThaiCharacter/test_norm/22/is010064722.bmp', '../Dataset/ThaiCharacter/test_norm/22/is050054522.bmp', '../Dataset/ThaiCharacter/test_norm/22/is060064722.bmp', '../Dataset/ThaiCharacter/test_norm/22/is100034722.bmp', '../Dataset/ThaiCharacter/test_norm/22/is020074722.bmp', '../Dataset/ThaiCharacter/test_norm/22/is080034522.bmp', '../Dataset/ThaiCharacter/test_norm/22/is030044722.bmp', '../Dataset/ThaiCharacter/test_norm/22/is040044522.bmp', '../Dataset/ThaiCharacter/test_norm/22/is070034722.bmp', '../Dataset/ThaiCharacter/test_norm/22/is090024522.bmp', '../Dataset/ThaiCharacter/test_norm/22/is080024522.bmp', '../Dataset/ThaiCharacter/test_norm/22/is030074522.bmp', '../Dataset/ThaiCharacter/test_norm/22/is040074522.bmp', '../Dataset/ThaiCharacter/test_norm/22/is040054522.bmp', '../Dataset/ThaiCharacter/test_norm/22/is100024722.bmp', '../Dataset/ThaiCharacter/test_norm/22/is080064722.bmp', '../Dataset/ThaiCharacter/test_norm/22/is020014722.bmp', '../Dataset/ThaiCharacter/test_norm/22/is020024522.bmp', '../Dataset/ThaiCharacter/test_norm/22/is010054522.bmp', '../Dataset/ThaiCharacter/test_norm/22/is100024522.bmp', '../Dataset/ThaiCharacter/test_norm/22/is080044722.bmp', '../Dataset/ThaiCharacter/test_norm/22/is040034722.bmp', '../Dataset/ThaiCharacter/test_norm/22/is040024522.bmp', '../Dataset/ThaiCharacter/test_norm/22/is070064722.bmp', '../Dataset/ThaiCharacter/test_norm/22/is090064522.bmp', '../Dataset/ThaiCharacter/test_norm/22/is050064722.bmp', '../Dataset/ThaiCharacter/test_norm/22/is050044722.bmp', '../Dataset/ThaiCharacter/test_norm/22/is030044522.bmp', '../Dataset/ThaiCharacter/test_norm/22/is030034522.bmp', '../Dataset/ThaiCharacter/test_norm/22/is040074722.bmp', '../Dataset/ThaiCharacter/test_norm/22/is010044722.bmp', '../Dataset/ThaiCharacter/test_norm/22/is090034722.bmp', '../Dataset/ThaiCharacter/test_norm/22/is070014522.bmp', '../Dataset/ThaiCharacter/test_norm/22/is090074722.bmp', '../Dataset/ThaiCharacter/test_norm/22/is040014722.bmp', '../Dataset/ThaiCharacter/test_norm/22/is010044522.bmp', '../Dataset/ThaiCharacter/test_norm/22/is020024722.bmp', '../Dataset/ThaiCharacter/test_norm/22/is080074522.bmp', '../Dataset/ThaiCharacter/test_norm/22/is030064522.bmp', '../Dataset/ThaiCharacter/test_norm/22/is080074722.bmp', '../Dataset/ThaiCharacter/test_norm/22/is100074522.bmp', '../Dataset/ThaiCharacter/test_norm/22/is090024722.bmp', '../Dataset/ThaiCharacter/test_norm/22/is070024722.bmp', '../Dataset/ThaiCharacter/test_norm/22/is090054522.bmp', '../Dataset/ThaiCharacter/test_norm/22/is040034522.bmp', '../Dataset/ThaiCharacter/test_norm/22/is010014722.bmp', '../Dataset/ThaiCharacter/test_norm/22/is090014722.bmp', '../Dataset/ThaiCharacter/test_norm/22/is100044522.bmp', '../Dataset/ThaiCharacter/test_norm/22/is090034522.bmp', '../Dataset/ThaiCharacter/test_norm/22/is090044722.bmp', '../Dataset/ThaiCharacter/test_norm/22/is100014522.bmp', '../Dataset/ThaiCharacter/test_norm/22/is070044522.bmp', '../Dataset/ThaiCharacter/test_norm/22/is030054722.bmp', '../Dataset/ThaiCharacter/test_norm/22/is080024722.bmp', '../Dataset/ThaiCharacter/test_norm/22/is040064522.bmp', '../Dataset/ThaiCharacter/test_norm/22/is100074722.bmp', '../Dataset/ThaiCharacter/test_norm/22/is020014522.bmp', '../Dataset/ThaiCharacter/test_norm/22/is040064722.bmp', '../Dataset/ThaiCharacter/test_norm/22/is040014522.bmp', '../Dataset/ThaiCharacter/test_norm/22/is080014522.bmp', '../Dataset/ThaiCharacter/test_norm/22/is070064522.bmp', '../Dataset/ThaiCharacter/test_norm/22/is030034722.bmp', '../Dataset/ThaiCharacter/test_norm/22/is060064522.bmp', '../Dataset/ThaiCharacter/test_norm/22/is020064722.bmp', '../Dataset/ThaiCharacter/test_norm/22/is060054522.bmp', '../Dataset/ThaiCharacter/test_norm/22/is010064522.bmp', '../Dataset/ThaiCharacter/test_norm/22/is030014722.bmp', '../Dataset/ThaiCharacter/test_norm/22/is030024522.bmp', '../Dataset/ThaiCharacter/test_norm/22/is030054522.bmp', '../Dataset/ThaiCharacter/test_norm/22/is010054722.bmp', '../Dataset/ThaiCharacter/test_norm/22/is040054722.bmp', '../Dataset/ThaiCharacter/test_norm/22/is040024722.bmp', '../Dataset/ThaiCharacter/test_norm/22/is100064722.bmp', '../Dataset/ThaiCharacter/test_norm/22/is100014722.bmp', '../Dataset/ThaiCharacter/test_norm/22/is080064522.bmp', '../Dataset/ThaiCharacter/test_norm/22/is090064722.bmp', '../Dataset/ThaiCharacter/test_norm/22/is050074522.bmp', '../Dataset/ThaiCharacter/test_norm/22/is070024522.bmp', '../Dataset/ThaiCharacter/test_norm/22/is100034522.bmp', '../Dataset/ThaiCharacter/test_norm/22/is020044722.bmp', '../Dataset/ThaiCharacter/test_norm/22/is020064522.bmp', '../Dataset/ThaiCharacter/test_norm/22/is060044522.bmp', '../Dataset/ThaiCharacter/test_norm/22/is050064522.bmp', '../Dataset/ThaiCharacter/test_norm/22/is050024722.bmp', '../Dataset/ThaiCharacter/test_norm/22/is060034522.bmp', '../Dataset/ThaiCharacter/test_norm/22/is090044522.bmp', '../Dataset/ThaiCharacter/test_norm/22/is010074522.bmp', '../Dataset/ThaiCharacter/test_norm/22/is060054722.bmp', '../Dataset/ThaiCharacter/test_norm/22/is050074722.bmp', '../Dataset/ThaiCharacter/test_norm/22/is060034722.bmp', '../Dataset/ThaiCharacter/test_norm/22/is100054522.bmp', '../Dataset/ThaiCharacter/test_norm/22/is080014722.bmp', '../Dataset/ThaiCharacter/test_norm/22/is060024722.bmp', '../Dataset/ThaiCharacter/test_norm/22/is080054722.bmp', '../Dataset/ThaiCharacter/test_norm/22/is010024722.bmp', '../Dataset/ThaiCharacter/test_norm/22/is090074522.bmp', '../Dataset/ThaiCharacter/test_norm/22/is050034722.bmp']\n"
     ]
    }
   ],
   "source": [
    "i=1\n",
    "\n",
    "\n",
    "path_lookup = {} \n",
    "\n",
    "for dName in results:\n",
    "    #print(dName)\n",
    "    dPath = path + \"/\" + dName\n",
    "    files = listdir(dPath)\n",
    "    print(dPath)\n",
    "    paths = []\n",
    "    for fname in files:\n",
    "        fPath = dPath + \"/\" + fname\n",
    "        paths.append(fPath)\n",
    "    \n",
    "    path_lookup[dName] = paths\n",
    "    \n",
    "    #print(i, dName, files[:5])\n",
    "    i += 1\n",
    "    \n",
    "print(path_lookup[\"22\"])"
   ]
  },
  {
   "cell_type": "code",
   "execution_count": 38,
   "metadata": {},
   "outputs": [
    {
     "name": "stdout",
     "output_type": "stream",
     "text": [
      "../Dataset/ThaiCharacter/test_norm/22/is010024522.bmp\n",
      "(32, 32)\n"
     ]
    },
    {
     "data": {
      "image/png": "[encoded data removed]",
      "text/plain": [
       "<Figure size 432x288 with 1 Axes>"
      ]
     },
     "metadata": {
      "needs_background": "light"
     },
     "output_type": "display_data"
    }
   ],
   "source": [
    "from skimage import io, transform\n",
    "\n",
    "\n",
    "print(path_lookup[\"22\"][1])\n",
    "\n",
    "img = io.imread(path_lookup[\"22\"][1])\n",
    "print(img.shape)\n",
    "\n",
    "io.imshow(img)\n",
    "io.show()"
   ]
  },
  {
   "cell_type": "code",
   "execution_count": 69,
   "metadata": {},
   "outputs": [
    {
     "name": "stdout",
     "output_type": "stream",
     "text": [
      "22\n",
      "21\n",
      "1\n",
      "34\n",
      "6\n",
      "55\n",
      "27\n",
      "15\n",
      "4\n",
      "58\n",
      "17\n",
      "28\n",
      "57\n",
      "63\n",
      "40\n",
      "10\n",
      "16\n",
      "62\n",
      "45\n",
      "61\n",
      "42\n",
      "29\n",
      "18\n",
      "50\n",
      "43\n",
      "36\n",
      "11\n",
      "30\n",
      "14\n",
      "31\n",
      "33\n",
      "3\n",
      "48\n",
      "65\n",
      "44\n",
      "24\n",
      "8\n",
      "54\n",
      "47\n",
      "56\n",
      "9\n",
      "25\n",
      "37\n",
      "60\n",
      "26\n",
      "32\n",
      "5\n",
      "53\n",
      "20\n",
      "35\n",
      "39\n",
      "2\n",
      "49\n",
      "51\n",
      "46\n",
      "59\n",
      "41\n",
      "38\n",
      "67\n",
      "13\n",
      "52\n",
      "23\n",
      "66\n",
      "12\n",
      "7\n",
      "64\n",
      "19\n"
     ]
    },
    {
     "data": {
      "text/plain": [
       "9012"
      ]
     },
     "execution_count": 69,
     "metadata": {},
     "output_type": "execute_result"
    }
   ],
   "source": [
    "X = []\n",
    "Ys = []\n",
    "for dname in path_lookup:\n",
    "    files = path_lookup[dname]\n",
    "    \n",
    "    \n",
    "    for fpath in files:\n",
    "        #print(dname, fpath)\n",
    "        img = io.imread(fpath)\n",
    "        X.append(img)\n",
    "        Ys.append(int(dname)-1)\n",
    "    print(dname)\n",
    "\n",
    "len(X)"
   ]
  },
  {
   "cell_type": "code",
   "execution_count": 70,
   "metadata": {},
   "outputs": [
    {
     "data": {
      "text/plain": [
       "14"
      ]
     },
     "execution_count": 70,
     "metadata": {},
     "output_type": "execute_result"
    }
   ],
   "source": [
    "Ys[1000]"
   ]
  },
  {
   "cell_type": "code",
   "execution_count": 71,
   "metadata": {},
   "outputs": [
    {
     "name": "stdout",
     "output_type": "stream",
     "text": [
      "(32, 32)\n"
     ]
    },
    {
     "data": {
      "image/png": "[encoded data removed]",
      "text/plain": [
       "<Figure size 432x288 with 1 Axes>"
      ]
     },
     "metadata": {
      "needs_background": "light"
     },
     "output_type": "display_data"
    }
   ],
   "source": [
    "io.imshow(X[0])\n",
    "print(X[0].shape)"
   ]
  },
  {
   "cell_type": "code",
   "execution_count": 72,
   "metadata": {},
   "outputs": [
    {
     "name": "stdout",
     "output_type": "stream",
     "text": [
      "(9012, 128, 128, 3) (128, 128, 3)\n"
     ]
    }
   ],
   "source": [
    "N = 128\n",
    "Xs = np.zeros((len(X)  ,N, N, 3) )\n",
    "print(Xs.shape, Xs[0].shape)\n",
    "\n",
    "i = 0\n",
    "for img in X:\n",
    "    rx = transform.resize( img, (N, N) )\n",
    "    Xs[i, : , :, 0] = rx[:, :]\n",
    "    Xs[i, : , :, 1] = rx[:, :]\n",
    "    Xs[i, : , :, 2] = rx[:, :]\n",
    "    i+=1\n"
   ]
  },
  {
   "cell_type": "code",
   "execution_count": 73,
   "metadata": {},
   "outputs": [
    {
     "name": "stdout",
     "output_type": "stream",
     "text": [
      "20\n"
     ]
    },
    {
     "data": {
      "image/png": "[encoded data removed]",
      "text/plain": [
       "<Figure size 432x288 with 1 Axes>"
      ]
     },
     "metadata": {
      "needs_background": "light"
     },
     "output_type": "display_data"
    }
   ],
   "source": [
    "io.imshow(Xs[200])\n",
    "print(Ys[200])"
   ]
  },
  {
   "cell_type": "code",
   "execution_count": 75,
   "metadata": {},
   "outputs": [],
   "source": [
    "dataset_path = \"../Dataset/\"\n",
    "np.save(dataset_path+ \"ThaiTest_X_\"+str(N), Xs)\n",
    "np.save(dataset_path+ \"ThaiTest_Y_\"+str(N), np.array(Ys))"
   ]
  },
  {
   "cell_type": "markdown",
   "metadata": {},
   "source": [
    "Backgroud"
   ]
  },
  {
   "cell_type": "code",
   "execution_count": 20,
   "metadata": {},
   "outputs": [
    {
     "name": "stdout",
     "output_type": "stream",
     "text": [
      "3\n",
      "4 ['2', 4, [1, 3, 4], 'Hello']\n"
     ]
    }
   ],
   "source": [
    "#array\n",
    "\n",
    "arr = [\"2\", 4, [1, 3, 4] ]\n",
    "\n",
    "arr.append(\"Hello\")\n",
    "\n",
    "print(arr[2][1])\n",
    "print(len(arr), arr)"
   ]
  },
  {
   "cell_type": "code",
   "execution_count": 25,
   "metadata": {},
   "outputs": [
    {
     "name": "stdout",
     "output_type": "stream",
     "text": [
      "{'number': '2', 'int': 4, 'arr': [1, 3, 4], 'txt': 'Hello'}\n",
      "4\n",
      "[1, 3, 4]\n",
      "3\n"
     ]
    }
   ],
   "source": [
    "#dic ,json\n",
    "\n",
    "dic = { \"number\": \"2\",   \"int\":  4, \"arr\":[1, 3, 4], \"txt\":'Hello'} \n",
    "print(dic)\n",
    "print(dic['int'])\n",
    "print(dic['arr'])\n",
    "print(dic['arr'][1])"
   ]
  },
  {
   "cell_type": "code",
   "execution_count": 28,
   "metadata": {},
   "outputs": [
    {
     "data": {
      "text/plain": [
       "4"
      ]
     },
     "execution_count": 28,
     "metadata": {},
     "output_type": "execute_result"
    }
   ],
   "source": [
    "arr.pop(1)"
   ]
  },
  {
   "cell_type": "code",
   "execution_count": 29,
   "metadata": {},
   "outputs": [
    {
     "data": {
      "text/plain": [
       "['2', [1, 3, 4]]"
      ]
     },
     "execution_count": 29,
     "metadata": {},
     "output_type": "execute_result"
    }
   ],
   "source": [
    "arr"
   ]
  },
  {
   "cell_type": "code",
   "execution_count": null,
   "metadata": {},
   "outputs": [],
   "source": []
  }
 ],
 "metadata": {
  "kernelspec": {
   "display_name": "Python 3",
   "language": "python",
   "name": "python3"
  },
  "language_info": {
   "codemirror_mode": {
    "name": "ipython",
    "version": 3
   },
   "file_extension": ".py",
   "mimetype": "text/x-python",
   "name": "python",
   "nbconvert_exporter": "python",
   "pygments_lexer": "ipython3",
   "version": "3.6.8"
  }
 },
 "nbformat": 4,
 "nbformat_minor": 2
}
